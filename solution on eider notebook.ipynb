{
  "metadata" : {
    "kernelspec" : {
      "display_name" : "R",
      "language" : "R",
      "name" : "ir"
    },
    "language_info" : {
      "file_extension" : ".r",
      "mimetype" : "text/x-r-source",
      "name" : "R"
    }
  },
  "nbformat" : 4,
  "nbformat_minor" : 2,
  "cells" : [ {
    "cell_type" : "code",
    "execution_count" : 0,
    "outputs" : [ ],
    "metadata" : { },
    "source" : [ "train=read.csv(\"/tmp/Train.csv\",header = TRUE)\nnames(train)" ]
  }, {
    "cell_type" : "code",
    "execution_count" : 0,
    "outputs" : [ ],
    "metadata" : { },
    "source" : [ "train= train[c(1,6,7,8,9,10,11,12,13,14,15,16,17,18,19,20,21)]" ]
  }, {
    "cell_type" : "code",
    "execution_count" : 0,
    "outputs" : [ ],
    "metadata" : { },
    "source" : [ "names(train)" ]
  }, {
    "cell_type" : "code",
    "execution_count" : 0,
    "outputs" : [ ],
    "metadata" : { },
    "source" : [ "ntr = train[c(3:17)]\nnames(ntr)" ]
  }, {
    "cell_type" : "code",
    "execution_count" : 0,
    "outputs" : [ ],
    "metadata" : { },
    "source" : [ "casdata=ntr[c(1,2,3,4,5,6,7,8,9,10,11,12,13)]\nregdata=ntr[c(1,2,3,4,5,6,7,8,9,10,11,12,14)]\nnames(casdata)\nnames(regdata)" ]
  }, {
    "cell_type" : "code",
    "execution_count" : 0,
    "outputs" : [ ],
    "metadata" : { },
    "source" : [ "#install.packages(\"caret\")\ninstall.packages(\"Metrics\")" ]
  }, {
    "cell_type" : "code",
    "execution_count" : 0,
    "outputs" : [ ],
    "metadata" : { },
    "source" : [ "#update.packages(ask = FALSE)\n#detach(\"rlang\")\n#require(rlang)\n#remove.packages(\"rlang\")" ]
  }, {
    "cell_type" : "code",
    "execution_count" : 0,
    "outputs" : [ ],
    "metadata" : { },
    "source" : [ "\n#library(caTools) \n#library(caret)\n#library(Metrics)\n#library(rpart)\nlibrary(randomForest)\n" ]
  }, {
    "cell_type" : "code",
    "execution_count" : 0,
    "outputs" : [ ],
    "metadata" : { },
    "source" : [ "casdata$casual=casdata$casual+1\r\ncasdata$casual=log(casdata$casual)\r\nregdata$registered=regdata$registered+1\r\nregdata$registered=log(regdata$registered)" ]
  }, {
    "cell_type" : "code",
    "execution_count" : 0,
    "outputs" : [ ],
    "metadata" : { },
    "source" : [ "sample = sample.split(casdata,SplitRatio = 0.75) \r\ntrain_cas =subset(casdata,sample ==TRUE) \r\ntest_cas=subset(casdata, sample==FALSE)" ]
  }, {
    "cell_type" : "code",
    "execution_count" : 0,
    "outputs" : [ ],
    "metadata" : { },
    "source" : [ "sample = sample.split(regdata,SplitRatio = 0.75) \r\ntrain_reg =subset(regdata,sample ==TRUE) \r\ntest_reg=subset(regdata, sample==FALSE)" ]
  }, {
    "cell_type" : "code",
    "execution_count" : 0,
    "outputs" : [ ],
    "metadata" : { },
    "source" : [ "names(train_reg)" ]
  }, {
    "cell_type" : "code",
    "execution_count" : 0,
    "outputs" : [ ],
    "metadata" : { },
    "source" : [ "cas_linearMod <- lm(casual ~ ., data=train_cas)\r\n\r\ncas_distPred <- predict(cas_linearMod, test_cas)\r\n\r\nactual=test_cas$casual\r\npred=cas_distPred\r\n\r\ncompare=data.frame(cbind(sse=sse(actual,pred),mse=mse(actual,pred),rmse=rmse(actual,pred),rse=rse(actual,pred), mae=mae(actual,pred),rae=rae(actual,pred),accuracy=1-sum((actual - pred)^2)/sum((actual-mean(actual))^2)))\r\ncompare" ]
  }, {
    "cell_type" : "code",
    "execution_count" : 0,
    "outputs" : [ ],
    "metadata" : { },
    "source" : [ "\r\nreg_linearMod <- lm(registered ~ ., data=train_reg)\r\n\r\nreg_distPred <- predict(reg_linearMod, test_reg)\r\n\r\nactual=test_reg$registered\r\npred=reg_distPred\r\n\r\ncompare=data.frame(cbind(sse=sse(actual,pred),mse=mse(actual,pred),rmse=rmse(actual,pred),rse=rse(actual,pred), mae=mae(actual,pred),rae=rae(actual,pred),accuracy=1-sum((actual - pred)^2)/sum((actual-mean(actual))^2)))\r\ncompare" ]
  }, {
    "cell_type" : "code",
    "execution_count" : 0,
    "outputs" : [ ],
    "metadata" : { },
    "source" : [ "cas_DTR <- rpart(casual ~ ., data=train_cas,method = \"anova\") \r\n\r\ncas_distPred <- predict(cas_DTR, test_cas)\r\n\r\nactual=test_cas$casual\r\npred=cas_distPred\r\n\r\ncompare=data.frame(cbind(sse=sse(actual,pred),mse=mse(actual,pred),rmse=rmse(actual,pred),rse=rse(actual,pred), mae=mae(actual,pred),rae=rae(actual,pred),accuracy=1-sum((actual - pred)^2)/sum((actual-mean(actual))^2)))\r\ncompare" ]
  }, {
    "cell_type" : "code",
    "execution_count" : 0,
    "outputs" : [ ],
    "metadata" : { },
    "source" : [ "reg_DTR <- rpart(train_reg$registered ~ ., data=train_reg,method = \"anova\")\r\n\r\nreg_distPred <- predict(reg_DTR, test_reg)\r\n\r\nactual=test_reg$registered\r\npred=reg_distPred\r\n\r\ncompare=data.frame(cbind(sse=sse(actual,pred),mse=mse(actual,pred),rmse=rmse(actual,pred),rse=rse(actual,pred), mae=mae(actual,pred),rae=rae(actual,pred),accuracy=1-sum((actual - pred)^2)/sum((actual-mean(actual))^2)))\r\ncompare" ]
  }, {
    "cell_type" : "code",
    "execution_count" : 0,
    "outputs" : [ ],
    "metadata" : { },
    "source" : [ "params_DTR_GS <- expand.grid(cp=c(0.1,0.001,0.01,0.02,0.03))\r\ncontrol = trainControl(method =\"cv\",number =3,search = \"grid\")\r\ncas_DTR <- train(casual ~ ., data=train_cas,method=\"rpart\",tuneGrid=params_DTR_GS,trControl=control)\r\ncas_DTR$bestTune\r\n\r\n\r\ncas_distPred <- predict(cas_DTR, test_cas)\r\n\r\nactual=test_cas$casual\r\npred=cas_distPred\r\n\r\ncompare=data.frame(cbind(sse=sse(actual,pred),mse=mse(actual,pred),rmse=rmse(actual,pred),rse=rse(actual,pred), mae=mae(actual,pred),rae=rae(actual,pred),accuracy=1-sum((actual - pred)^2)/sum((actual-mean(actual))^2)))\r\ncompare" ]
  }, {
    "cell_type" : "code",
    "execution_count" : 0,
    "outputs" : [ ],
    "metadata" : { },
    "source" : [ "params_DTR_GS <- expand.grid(cp=c(0.1,0.001,0.01,0.02,0.03))\r\ncontrol = trainControl(method =\"cv\",number =3,search = \"grid\")\r\nreg_DTR <- train(registered ~ ., data=train_reg,method=\"rpart\",tuneGrid=params_DTR_GS,trControl=control)\r\nreg_DTR$bestTune\r\nreg_distPred <- predict(reg_DTR, test_reg)\r\n\r\nactual=test_reg$registered\r\npred=reg_distPred\r\n\r\ncompare=data.frame(cbind(sse=sse(actual,pred),mse=mse(actual,pred),rmse=rmse(actual,pred),rse=rse(actual,pred), mae=mae(actual,pred),rae=rae(actual,pred),accuracy=1-sum((actual - pred)^2)/sum((actual-mean(actual))^2)))\r\ncompare" ]
  }, {
    "cell_type" : "code",
    "execution_count" : 0,
    "outputs" : [ ],
    "metadata" : { },
    "source" : [ "params_knn <- expand.grid(k=c(5:20))\r\ncontrol = trainControl(method =\"cv\",number =3,search = \"grid\")\r\ncas_knn <- train(casual ~ ., data=train_cas,method=\"knn\",tuneGrid=params_knn,trControl=control)\r\n\r\ncas_knn$bestTune\r\n\r\ncas_distPred <- predict(cas_knn, test_cas)\r\n\r\nactual=test_cas$casual\r\npred=cas_distPred\r\n\r\ncompare=data.frame(cbind(sse=sse(actual,pred),mse=mse(actual,pred),rmse=rmse(actual,pred),rse=rse(actual,pred), mae=mae(actual,pred),rae=rae(actual,pred),accuracy=1-sum((actual - pred)^2)/sum((actual-mean(actual))^2)))\r\ncompare" ]
  }, {
    "cell_type" : "code",
    "execution_count" : 0,
    "outputs" : [ ],
    "metadata" : { },
    "source" : [ "\r\nparams_knn <- expand.grid(k=c(5:20))\r\ncontrol = trainControl(method =\"cv\",number =3,search = \"grid\")\r\nreg_knn <- train(registered ~ ., data=train_reg,method=\"knn\",tuneGrid=params_knn,trControl=control)\r\n\r\nreg_knn$bestTune\r\nreg_distPred <- predict(reg_knn, test_reg)\r\n\r\nactual=test_reg$registered\r\npred=reg_distPred\r\n\r\ncompare=data.frame(cbind(sse=sse(actual,pred),mse=mse(actual,pred),rmse=rmse(actual,pred),rse=rse(actual,pred), mae=mae(actual,pred),rae=rae(actual,pred),accuracy=1-sum((actual - pred)^2)/sum((actual-mean(actual))^2)))\r\ncompare" ]
  }, {
    "cell_type" : "code",
    "execution_count" : 0,
    "outputs" : [ ],
    "metadata" : { },
    "source" : [ "sqrt = sqrt(ncol(train_cas))\r\nlog2 = log2(ncol(train_cas))\r\nn_features = 12\r\ncontrol = trainControl(method =\"cv\",number =10,search = \"grid\")\r\nparams_RFR = expand.grid(mtry = c(sqrt,log2, n_features))\r\ncas_RF <- train(casual ~ ., data=train_cas,method=\"rf\",tuneGrid=params_RFR,trControl=control)\r\n\r\ncas_RF$bestTune\r\n\r\ncas_distPred <- predict(cas_RF, test_cas)\r\n\r\nactual=test_cas$casual\r\npred=cas_distPred\r\n\r\ncompare=data.frame(cbind(sse=sse(actual,pred),mse=mse(actual,pred),rmse=rmse(actual,pred),rse=rse(actual,pred), mae=mae(actual,pred),rae=rae(actual,pred),accuracy=1-sum((actual - pred)^2)/sum((actual-mean(actual))^2)))\r\ncompare" ]
  }, {
    "cell_type" : "code",
    "execution_count" : 0,
    "outputs" : [ ],
    "metadata" : { },
    "source" : [ "sqrt = sqrt(ncol(train_reg))\r\nlog2 = log2(ncol(train_reg))\r\nn_features = 12\r\ncontrol = trainControl(method =\"cv\",number =10,search = \"grid\")\r\nparams_RFR = expand.grid(mtry = c(sqrt,log2, n_features))\r\nreg_RF <- train(registered ~ ., data=train_reg,method=\"rf\",tuneGrid=params_RFR,trControl=control)\r\n\r\n\r\nreg_RF$bestTune\r\nreg_distPred <- predict(reg_RF, test_reg)\r\n\r\nactual=test_reg$registered\r\npred=reg_distPred\r\n\r\ncompare=data.frame(cbind(sse=sse(actual,pred),mse=mse(actual,pred),rmse=rmse(actual,pred),rse=rse(actual,pred), mae=mae(actual,pred),rae=rae(actual,pred),accuracy=1-sum((actual - pred)^2)/sum((actual-mean(actual))^2)))\r\ncompare" ]
  } ]
}