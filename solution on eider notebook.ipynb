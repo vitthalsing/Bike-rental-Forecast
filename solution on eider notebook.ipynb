{
  "metadata" : {
    "kernelspec" : {
      "display_name" : "Python 2",
      "language" : "python",
      "name" : "python2"
    },
    "language_info" : {
      "file_extension" : ".py",
      "mimetype" : "text/x-python",
      "name" : "python"
    }
  },
  "nbformat" : 4,
  "nbformat_minor" : 2,
  "cells" : [ {
    "cell_type" : "code",
    "execution_count" : 0,
    "outputs" : [ ],
    "metadata" : { },
    "source" : [ "import numpy as np\r\nimport pandas as pd\r\nimport matplotlib.pyplot as plt\r\nimport math \r\n%matplotlib inline\r\n# import warnings filter\r\nfrom warnings import simplefilter\r\n# ignore all future warnings\r\nsimplefilter(action='ignore', category=FutureWarning)" ]
  }, {
    "cell_type" : "code",
    "execution_count" : 0,
    "outputs" : [ ],
    "metadata" : { },
    "source" : [ "from sklearn.model_selection import train_test_split\r\nfrom sklearn.model_selection import GridSearchCV\r\nfrom sklearn.model_selection import RandomizedSearchCV\r\nfrom scipy.stats import uniform\r\nfrom scipy.stats import randint as sp_randint\r\nfrom sklearn import metrics" ]
  }, {
    "cell_type" : "code",
    "execution_count" : 0,
    "outputs" : [ ],
    "metadata" : { },
    "source" : [ "def upload_tmp_file(filename):\r\n    try:\r\n        eider.env.getUploaded(filename, \"/tmp/\" + filename)\r\n    except Exception as e:\r\n        eider.env.getUploaded(\"tmp/\" + filename, \"/tmp/\" + filename)" ]
  }, {
    "cell_type" : "code",
    "execution_count" : 0,
    "outputs" : [ ],
    "metadata" : { },
    "source" : [ "upload_tmp_file(\"Train.csv\")" ]
  }, {
    "cell_type" : "code",
    "execution_count" : 0,
    "outputs" : [ ],
    "metadata" : { },
    "source" : [ "train= pd.read_csv(\"/tmp/Train.csv\")\n#train.columns\n#train=train[['season', 'yr','mnth', 'hr', 'holiday', 'weekday', 'workingday', 'weathersit', 'temp','atemp', 'hum', 'windspeed', 'casual', 'registered', 'cnt']]" ]
  }, {
    "cell_type" : "code",
    "execution_count" : 0,
    "outputs" : [ ],
    "metadata" : { },
    "source" : [ "cas=train[['season', 'yr','mnth', 'hr', 'holiday', 'weekday', 'workingday', 'weathersit', 'temp','atemp', 'hum', 'windspeed', 'casual']]\n#plt.hist(cas['casual'])\ncas['casual'] = cas['casual'].apply(lambda x: math.log(x + 1))\nprint(\"Adding 1 to each column and transforming it to remove skewness\")\nreg=train[['season', 'yr','mnth', 'hr', 'holiday', 'weekday', 'workingday', 'weathersit', 'temp','atemp', 'hum', 'windspeed', 'registered']]\nreg['registered'] = reg['registered'].apply(lambda x:math.log(x + 1))" ]
  }, {
    "cell_type" : "code",
    "execution_count" : 0,
    "outputs" : [ ],
    "metadata" : { },
    "source" : [ "def refresh():\n    train= pd.read_csv(\"/tmp/Train.csv\")\n    train=train[['season', 'yr','mnth', 'hr', 'holiday', 'weekday', 'workingday', 'weathersit', 'temp','atemp', 'hum', 'windspeed', 'casual', 'registered', 'cnt']]\n    cas=train[['season', 'yr','mnth', 'hr', 'holiday', 'weekday', 'workingday', 'weathersit', 'temp','atemp', 'hum', 'windspeed', 'casual']]\n    cas['casual'] = cas['casual'].apply(lambda x: math.log(x + 1))\n    reg=train[['season', 'yr','mnth', 'hr', 'holiday', 'weekday', 'workingday', 'weathersit', 'temp','atemp', 'hum', 'windspeed', 'registered']]\n    reg['registered'] = reg['registered'].apply(lambda x:math.log(x + 1))" ]
  }, {
    "cell_type" : "markdown",
    "metadata" : { },
    "source" : [ "## Train and Test" ]
  }, {
    "cell_type" : "code",
    "execution_count" : 0,
    "outputs" : [ ],
    "metadata" : { },
    "source" : [ "X = cas[['season', 'yr','mnth', 'hr', 'holiday', 'weekday', 'workingday', 'weathersit', 'temp','atemp', 'hum', 'windspeed']]\r\nY = cas['casual']\r\ncasX_train,casX_test,casY_train,casY_test=train_test_split(X,Y,test_size=0.3,random_state=123)" ]
  }, {
    "cell_type" : "code",
    "execution_count" : 0,
    "outputs" : [ ],
    "metadata" : { },
    "source" : [ "X = reg[['season', 'yr','mnth', 'hr', 'holiday', 'weekday', 'workingday', 'weathersit', 'temp','atemp', 'hum', 'windspeed']]\r\nY = reg['registered']\r\nregX_train,regX_test,regY_train,regY_test=train_test_split(X,Y,test_size=0.3,random_state=123)" ]
  }, {
    "cell_type" : "markdown",
    "metadata" : { },
    "source" : [ "## Regularized Linear Regression" ]
  }, {
    "cell_type" : "code",
    "execution_count" : 0,
    "outputs" : [ ],
    "metadata" : { },
    "source" : [ "import statsmodels.formula.api as smf\nfrom sklearn.linear_model import LinearRegression\nfrom sklearn import metrics" ]
  }, {
    "cell_type" : "code",
    "execution_count" : 0,
    "outputs" : [ ],
    "metadata" : { },
    "source" : [ "linreg_model = LinearRegression()" ]
  }, {
    "cell_type" : "code",
    "execution_count" : 0,
    "outputs" : [ ],
    "metadata" : { },
    "source" : [ "linreg_model.fit(casX_train,casY_train)\ncaslm = linreg_model.predict(casX_test)\nmetrics.r2_score(casY_test,caslm)" ]
  }, {
    "cell_type" : "code",
    "execution_count" : 0,
    "outputs" : [ ],
    "metadata" : { },
    "source" : [ "linreg_model.fit(regX_train,regY_train)\nreglm = linreg_model.predict(regX_test)\nmetrics.r2_score(regY_test,reglm)" ]
  }, {
    "cell_type" : "markdown",
    "metadata" : { },
    "source" : [ "## Decision Tree Regressor" ]
  }, {
    "cell_type" : "code",
    "execution_count" : 0,
    "outputs" : [ ],
    "metadata" : { },
    "source" : [ "from sklearn.tree import DecisionTreeRegressor" ]
  }, {
    "cell_type" : "code",
    "execution_count" : 0,
    "outputs" : [ ],
    "metadata" : { },
    "source" : [ "DTR = DecisionTreeRegressor()\r\nDTR.fit(casX_train,casY_train)" ]
  }, {
    "cell_type" : "code",
    "execution_count" : 0,
    "outputs" : [ ],
    "metadata" : { },
    "source" : [ "casPred_DTR = DTR.predict(casX_test)\r\nmetrics.r2_score(casY_test,casPred_DTR)" ]
  }, {
    "cell_type" : "code",
    "execution_count" : 0,
    "outputs" : [ ],
    "metadata" : { },
    "source" : [ "DTR.fit(regX_train,regY_train)\nregPred_DTR = DTR.predict(regX_test)\nmetrics.r2_score(regY_test,regPred_DTR)" ]
  }, {
    "cell_type" : "code",
    "execution_count" : 0,
    "outputs" : [ ],
    "metadata" : { },
    "source" : [ "import graphviz\nimport os" ]
  }, {
    "cell_type" : "code",
    "execution_count" : 0,
    "outputs" : [ ],
    "metadata" : { },
    "source" : [ "#dot_data = tree.export_graphviz(DTR, out_file=None)\r\n#graph = graphviz.Source(dot_data)\r\n#graph.render(\"train_set1\")\r\n#os.startfile('train_set1.pdf')" ]
  }, {
    "cell_type" : "code",
    "execution_count" : 0,
    "outputs" : [ ],
    "metadata" : { },
    "source" : [ "#dot_data = tree.export_graphviz(DTR, out_file=None, max_depth=3,\r\n #                              feature_names=X_Names,    \r\n #                        filled=True, rounded=True,  \r\n #                        special_characters=True)\r\n#graph2 = graphviz.Source(dot_data)\r\n#graph2.render('train_setlinear')" ]
  }, {
    "cell_type" : "code",
    "execution_count" : 0,
    "outputs" : [ ],
    "metadata" : { },
    "source" : [ "params = {'max_features': ['auto', 'sqrt', 'log2'],\r\n          'min_samples_split': [2,3,4,5,6,7,8,9,10,11,12,13,14,15], \r\n          'min_samples_leaf':[1,2,3,4,5,6,7,8,9,10,11],\r\n         'max_depth':[2,3,4,5,6,7,8]}" ]
  }, {
    "cell_type" : "code",
    "execution_count" : 0,
    "outputs" : [ ],
    "metadata" : { },
    "source" : [ "DTR = DecisionTreeRegressor()" ]
  }, {
    "cell_type" : "code",
    "execution_count" : 0,
    "outputs" : [ ],
    "metadata" : { },
    "source" : [ "DTR_GS = GridSearchCV(DTR, param_grid=params)\r\nDTR_GS.fit(casX_train,casY_train)" ]
  }, {
    "cell_type" : "code",
    "execution_count" : 0,
    "outputs" : [ ],
    "metadata" : { },
    "source" : [ "DTR_GS.best_params_" ]
  }, {
    "cell_type" : "code",
    "execution_count" : 0,
    "outputs" : [ ],
    "metadata" : { },
    "source" : [ "caspred_DTR_GS = DTR_GS.predict(casX_test)\r\nmetrics.r2_score(casY_test,caspred_DTR_GS)" ]
  }, {
    "cell_type" : "code",
    "execution_count" : 0,
    "outputs" : [ ],
    "metadata" : { },
    "source" : [ "DTR_GS = GridSearchCV(DTR, param_grid=params)\r\nDTR_GS.fit(regX_train,regY_train)\r\nprint(DTR_GS.best_params_)\r\nregpred_DTR_GS = DTR_GS.predict(regX_test)\r\nmetrics.r2_score(regY_test,regpred_DTR_GS)" ]
  }, {
    "cell_type" : "markdown",
    "metadata" : { },
    "source" : [ "## Random Search" ]
  }, {
    "cell_type" : "code",
    "execution_count" : 0,
    "outputs" : [ ],
    "metadata" : { },
    "source" : [ "from scipy.stats import randint as sp_randint\r\n \r\nparam_grid2 = {'max_features': ['auto', 'sqrt', 'log2'],\r\n          'min_samples_split': sp_randint(2,15), \r\n          'min_samples_leaf': sp_randint(1,11),\r\n         'max_depth':sp_randint(2,8)}" ]
  }, {
    "cell_type" : "code",
    "execution_count" : 0,
    "outputs" : [ ],
    "metadata" : { },
    "source" : [ "DTR_RS = RandomizedSearchCV(DTR, param_distributions=param_grid2,n_iter=100)\r\nDTR_RS.fit(casX_train,casY_train)\r\nprint(DTR_RS.best_params_)\r\ncaspred_DTR_RS = DTR_RS.predict(casX_test)\r\nmetrics.r2_score(casY_test,caspred_DTR_RS)" ]
  }, {
    "cell_type" : "code",
    "execution_count" : 0,
    "outputs" : [ ],
    "metadata" : { },
    "source" : [ "DTR_RS.fit(regX_train,regY_train)\r\nprint(DTR_RS.best_params_)\r\nregpred_DTR_RS = DTR_RS.predict(regX_test)\r\nmetrics.r2_score(regY_test,regpred_DTR_RS)" ]
  }, {
    "cell_type" : "markdown",
    "metadata" : { },
    "source" : [ "## Ensemble Models\r\n#### Bagging Regressor" ]
  }, {
    "cell_type" : "code",
    "execution_count" : 0,
    "outputs" : [ ],
    "metadata" : { },
    "source" : [ "from sklearn.ensemble import BaggingRegressor" ]
  }, {
    "cell_type" : "code",
    "execution_count" : 0,
    "outputs" : [ ],
    "metadata" : { },
    "source" : [ "baggingR = BaggingRegressor()\r\nbaggingR.fit(casX_train,casY_train)\r\ncasbag_test_pred = baggingR.predict(casX_test)\r\nmetrics.r2_score(casY_test,casbag_test_pred)" ]
  }, {
    "cell_type" : "code",
    "execution_count" : 0,
    "outputs" : [ ],
    "metadata" : { },
    "source" : [ "baggingR = BaggingRegressor()\r\nbaggingR.fit(regX_train,regY_train)\r\nregbag_test_pred = baggingR.predict(regX_test)\r\nmetrics.r2_score(regY_test,regbag_test_pred)" ]
  }, {
    "cell_type" : "markdown",
    "metadata" : { },
    "source" : [ "## Tuning Hyperparameters Grid Search" ]
  }, {
    "cell_type" : "code",
    "execution_count" : 0,
    "outputs" : [ ],
    "metadata" : { },
    "source" : [ "params_bag_GS = {\"n_estimators\": [50,100,200],\r\n              \"max_features\":[1,2,4,6,8],\r\n              \"max_samples\": [0.5,0.1],\r\n            \"bootstrap\": [True, False],\r\n         \"bootstrap_features\": [True, False]}" ]
  }, {
    "cell_type" : "code",
    "execution_count" : 0,
    "outputs" : [ ],
    "metadata" : { },
    "source" : [ "Bag_model_GS = GridSearchCV(baggingR, param_grid=params_bag_GS)\r\nBag_model_GS.fit(casX_train,casY_train)\r\nprint(Bag_model_GS.best_params_)\r\ncaspred_bag_GS = Bag_model_GS.predict(casX_test)\r\nmetrics.r2_score(casY_test,caspred_bag_GS)" ]
  }, {
    "cell_type" : "code",
    "execution_count" : 0,
    "outputs" : [ ],
    "metadata" : { },
    "source" : [ "Bag_model_GS = GridSearchCV(baggingR, param_grid=params_bag_GS)\r\nBag_model_GS.fit(regX_train,regY_train)\r\nprint(Bag_model_GS.best_params_)\r\nregpred_bag_GS = Bag_model_GS.predict(regX_test)\r\nmetrics.r2_score(regY_test,regpred_bag_GS)" ]
  }, {
    "cell_type" : "markdown",
    "metadata" : { },
    "source" : [ "## Random Search" ]
  }, {
    "cell_type" : "code",
    "execution_count" : 0,
    "outputs" : [ ],
    "metadata" : { },
    "source" : [ "params_bagR_RS = {\"n_estimators\": sp_randint(50,200),\r\n              \"max_features\":sp_randint(1,8),\r\n              \"max_samples\": uniform(0.5,0.1),\r\n            \"bootstrap\": [True, False],\r\n         \"bootstrap_features\": [True, False]}" ]
  }, {
    "cell_type" : "code",
    "execution_count" : 0,
    "outputs" : [ ],
    "metadata" : { },
    "source" : [ "BagR_RS = RandomizedSearchCV(baggingR, param_distributions=params_bagR_RS,n_iter=120)\r\nBagR_RS.fit(casX_train,casY_train)\r\nprint(BagR_RS.best_params_)\r\ncaspred_bagR_RS = BagR_RS.predict(casX_test)\r\nmetrics.r2_score(casY_test,caspred_bagR_RS)" ]
  }, {
    "cell_type" : "code",
    "execution_count" : 0,
    "outputs" : [ ],
    "metadata" : { },
    "source" : [ "BagR_RS.fit(regX_train,regY_train)\r\nprint(BagR_RS.best_params_)\r\nregpred_bagR_RS = BagR_RS.predict(regX_test)\r\nmetrics.r2_score(regY_test,regpred_bagR_RS)" ]
  }, {
    "cell_type" : "code",
    "execution_count" : 0,
    "outputs" : [ ],
    "metadata" : { },
    "source" : [ "##Random Forest Regressor" ]
  }, {
    "cell_type" : "code",
    "execution_count" : 0,
    "outputs" : [ ],
    "metadata" : { },
    "source" : [ "from sklearn.ensemble import RandomForestRegressor" ]
  }, {
    "cell_type" : "code",
    "execution_count" : 0,
    "outputs" : [ ],
    "metadata" : { },
    "source" : [ "rfr = RandomForestRegressor()\r\nparams_RF = {\"max_depth\": [3,5,6,7,8,9],\r\n              \"max_features\":['auto', 'sqrt', 'log2'],\r\n              \"min_samples_split\": [2, 3,5,7],\r\n              \"min_samples_leaf\": [1, 3,5,6]}" ]
  }, {
    "cell_type" : "code",
    "execution_count" : 0,
    "outputs" : [ ],
    "metadata" : { },
    "source" : [ "model_RF_GS = GridSearchCV(rfr, param_grid=params_RF)\r\nmodel_RF_GS.fit(casX_train,casY_train)\r\nprint(model_RF_GS.best_params_)\r\ncaspred_RF_GS = model_RF_GS.predict(casX_test)\r\nmetrics.r2_score(casY_test,caspred_RF_GS)" ]
  }, {
    "cell_type" : "code",
    "execution_count" : 0,
    "outputs" : [ ],
    "metadata" : { },
    "source" : [ "model_RF_GS.fit(regX_train,regY_train)\r\nprint(model_RF_GS.best_params_)\r\nregpred_RF_GS = model_RF_GS.predict(regX_test)\r\nmetrics.r2_score(regY_test,regpred_RF_GS)" ]
  }, {
    "cell_type" : "markdown",
    "metadata" : { },
    "source" : [ "## Random Search" ]
  }, {
    "cell_type" : "code",
    "execution_count" : 0,
    "outputs" : [ ],
    "metadata" : { },
    "source" : [ "params_RF_RS = {\"max_depth\": sp_randint(3,9),\r\n              \"max_features\":['auto', 'sqrt', 'log2'],\r\n              \"min_samples_split\":sp_randint(2,7),\r\n              \"min_samples_leaf\": sp_randint(1,6)}" ]
  }, {
    "cell_type" : "code",
    "execution_count" : 0,
    "outputs" : [ ],
    "metadata" : { },
    "source" : [ "rfr_RS = RandomizedSearchCV(rfr, param_distributions=params_RF_RS,n_iter=100)\r\nrfr_RS.fit(casX_train,casY_train)\r\nprint(rfr_RS.best_params_)\r\ncaspred_RF_RS = rfr_RS.predict(casX_test)\r\nmetrics.r2_score(casY_test,caspred_RF_RS)" ]
  }, {
    "cell_type" : "code",
    "execution_count" : 0,
    "outputs" : [ ],
    "metadata" : { },
    "source" : [ "rfr_RS.fit(regX_train,regY_train)\r\nprint(rfr_RS.best_params_)\r\nregpred_RF_RS = rfr_RS.predict(regX_test)\r\nmetrics.r2_score(regY_test,regpred_RF_RS)" ]
  }, {
    "cell_type" : "markdown",
    "metadata" : { },
    "source" : [ "# AdaBoost Regressor" ]
  }, {
    "cell_type" : "code",
    "execution_count" : 0,
    "outputs" : [ ],
    "metadata" : { },
    "source" : [ "from sklearn.ensemble import AdaBoostRegressor" ]
  }, {
    "cell_type" : "markdown",
    "metadata" : { },
    "source" : [ "## Grid Search" ]
  }, {
    "cell_type" : "code",
    "execution_count" : 0,
    "outputs" : [ ],
    "metadata" : { },
    "source" : [ "params_AdbR_GS = {'learning_rate':[0.05,0.1,0.2,0.6,0.8,1],\r\n        'n_estimators': [50,60,100],\r\n                 'loss' : ['linear', 'square', 'exponential']}" ]
  }, {
    "cell_type" : "code",
    "execution_count" : 0,
    "outputs" : [ ],
    "metadata" : { },
    "source" : [ "model_AdaR_GS = GridSearchCV(AdaBoostRegressor(), param_grid=params_AdbR_GS)\r\nmodel_AdaR_GS.fit(casX_train,casY_train)\r\nmodel_AdaR_GS.best_params_\r\ncaspred_AdaR_GS = model_AdaR_GS.predict(casX_test)\r\nmetrics.r2_score(casY_test,caspred_AdaR_GS)" ]
  }, {
    "cell_type" : "code",
    "execution_count" : 0,
    "outputs" : [ ],
    "metadata" : { },
    "source" : [ "model_AdaR_GS.fit(regX_train,regY_train)\r\nmodel_AdaR_GS.best_params_\r\nregpred_AdaR_GS = model_AdaR_GS.predict(regX_test)\r\nmetrics.r2_score(regY_test,regpred_AdaR_GS)" ]
  }, {
    "cell_type" : "markdown",
    "metadata" : { },
    "source" : [ "# Gradient Boosting Regressor" ]
  }, {
    "cell_type" : "code",
    "execution_count" : 0,
    "outputs" : [ ],
    "metadata" : { },
    "source" : [ "from sklearn.ensemble import GradientBoostingRegressor" ]
  }, {
    "cell_type" : "markdown",
    "metadata" : { },
    "source" : [ "### Tuning Hyperparameters\r\n#### Grid Search" ]
  }, {
    "cell_type" : "code",
    "execution_count" : 0,
    "outputs" : [ ],
    "metadata" : { },
    "source" : [ "params_GBR_GS = {\"max_depth\": [3,5,6,7],\r\n              \"max_features\":['auto', 'sqrt', 'log2'],\r\n              \"min_samples_split\": [2, 3, 10],\r\n              \"min_samples_leaf\": [1, 3, 10],\r\n            'learning_rate':[0.05,0.1,0.2],\r\n            'n_estimators': [10,30,50,70]}" ]
  }, {
    "cell_type" : "code",
    "execution_count" : 0,
    "outputs" : [ ],
    "metadata" : { },
    "source" : [ "model_GradR2_GS = GridSearchCV(GradientBoostingRegressor(), param_grid=params_GBR_GS)\r\nmodel_GradR2_GS.fit(casX_train,casY_train)\r\nprint(model_GradR2_GS.best_params_)\r\ncaspred_GradR_GS = model_GradR2_GS.predict(casX_test)\r\nmetrics.r2_score(casY_test,caspred_GradR_GS)" ]
  }, {
    "cell_type" : "code",
    "execution_count" : 0,
    "outputs" : [ ],
    "metadata" : { },
    "source" : [ "model_GradR2_GS.fit(regX_train,regY_train)\r\nprint(model_GradR2_GS.best_params_)\r\nregpred_GradR_GS = model_GradR2_GS.predict(regX_test)\r\nmetrics.r2_score(regY_test,regpred_GradR_GS)" ]
  }, {
    "cell_type" : "markdown",
    "metadata" : { },
    "source" : [ "# XgBoost Regressor\r\n## Tuning Hyperparameters\r\n### Grid Search" ]
  }, {
    "cell_type" : "code",
    "execution_count" : 0,
    "outputs" : [ ],
    "metadata" : { },
    "source" : [ "from xgboost import XGBRegressor" ]
  }, {
    "cell_type" : "code",
    "execution_count" : 0,
    "outputs" : [ ],
    "metadata" : { },
    "source" : [ "params_xgbR_GS = {\"max_depth\": [3,4,5,6,7,8],\r\n              \"min_child_weight\" : [3,4,5,6,7,8,9,10,11,12,13,14,15],\r\n            'learning_rate':[0.05,0.1,0.2,0.25,0.8,1],\r\n            'n_estimators': [100,200,300,400,500]}" ]
  }, {
    "cell_type" : "code",
    "execution_count" : 0,
    "outputs" : [ ],
    "metadata" : { },
    "source" : [ "model_xgbR_GS = GridSearchCV(XGBRegressor(), param_grid=params_xgbR_GS)" ]
  }, {
    "cell_type" : "code",
    "execution_count" : 0,
    "outputs" : [ ],
    "metadata" : { },
    "source" : [ "\r\nmodel_xgbR_GS.fit(casX_train,casY_train)\r\nprint(model_xgbR_GS.best_params_)\r\ncaspred_xgbR_GS = model_xgbR_GS.predict(casX_test)\r\nmetrics.r2_score(casY_test,caspred_xgbR_GS)" ]
  }, {
    "cell_type" : "code",
    "execution_count" : 0,
    "outputs" : [ ],
    "metadata" : { },
    "source" : [ "model_xgbR_GS.fit(regX_train,regY_train)\r\nprint(model_xgbR_GS.best_params_)\r\nregpred_xgbR_GS = model_xgbR_GS.predict(regX_test)\r\nmetrics.r2_score(regY_test,regpred_xgbR_GS)" ]
  } ]
}